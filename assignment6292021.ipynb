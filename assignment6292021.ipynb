{
  "nbformat": 4,
  "nbformat_minor": 0,
  "metadata": {
    "colab": {
      "name": "assignment6292021.ipynb",
      "provenance": [],
      "include_colab_link": true
    },
    "kernelspec": {
      "name": "python3",
      "display_name": "Python 3"
    },
    "language_info": {
      "name": "python"
    }
  },
  "cells": [
    {
      "cell_type": "markdown",
      "metadata": {
        "id": "view-in-github",
        "colab_type": "text"
      },
      "source": [
        "<a href=\"https://colab.research.google.com/github/Hariii2020/2.py/blob/master/assignment6292021.ipynb\" target=\"_parent\"><img src=\"https://colab.research.google.com/assets/colab-badge.svg\" alt=\"Open In Colab\"/></a>"
      ]
    },
    {
      "cell_type": "markdown",
      "metadata": {
        "id": "r64wAqjFwlWU"
      },
      "source": [
        "sWAP cASE : convert lower case letters into upper case and vice versa\n",
        "\n",
        "input : Perfect Plan B                                          \n",
        "output : pERFECT pLAN b\n",
        "\n",
        "input : Machine Learning                                  \n",
        "output : mACHINE lEARNING"
      ]
    },
    {
      "cell_type": "code",
      "metadata": {
        "id": "Fn2Wdn-ctt2n",
        "outputId": "30ab5d57-ec65-4071-96f7-e32f5d60ca80",
        "colab": {
          "base_uri": "https://localhost:8080/"
        }
      },
      "source": [
        "#write you\"r code here\n",
        "input =  \"Perfect Plan B\"\n",
        "print(input.swapcase())\n"
      ],
      "execution_count": 3,
      "outputs": [
        {
          "output_type": "stream",
          "text": [
            "pERFECT pLAN b\n"
          ],
          "name": "stdout"
        }
      ]
    }
  ]
}
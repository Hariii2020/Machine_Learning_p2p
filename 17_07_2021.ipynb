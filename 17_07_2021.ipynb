{
  "nbformat": 4,
  "nbformat_minor": 0,
  "metadata": {
    "colab": {
      "name": "17-07-2021.ipynb",
      "provenance": [],
      "collapsed_sections": [],
      "include_colab_link": true
    },
    "kernelspec": {
      "name": "python3",
      "display_name": "Python 3"
    },
    "language_info": {
      "name": "python"
    }
  },
  "cells": [
    {
      "cell_type": "markdown",
      "metadata": {
        "id": "view-in-github",
        "colab_type": "text"
      },
      "source": [
        "<a href=\"https://colab.research.google.com/github/Hariii2020/2.py/blob/master/17_07_2021.ipynb\" target=\"_parent\"><img src=\"https://colab.research.google.com/assets/colab-badge.svg\" alt=\"Open In Colab\"/></a>"
      ]
    },
    {
      "cell_type": "markdown",
      "metadata": {
        "id": "yyzkGLEB3E6o"
      },
      "source": [
        "Ask the user for a string and print out whether this string is a palindrome or not.\n",
        "\n",
        "A palindrome is a string that reads the same forwards and backwards."
      ]
    },
    {
      "cell_type": "code",
      "metadata": {
        "id": "JU5KaGhN1rda",
        "outputId": "0ffca7a9-021c-4bc0-f25d-186b120da61f",
        "colab": {
          "base_uri": "https://localhost:8080/"
        }
      },
      "source": [
        "input = input(\"Enter the string\")\n",
        "check = input[ : : -1]\n",
        "if input==check:\n",
        "  print(\"Palindrome\")\n",
        "else:\n",
        "  print(\"Not a Palindrome\")"
      ],
      "execution_count": 1,
      "outputs": [
        {
          "output_type": "stream",
          "text": [
            "Enter the stringmadam\n",
            "Palindrome\n"
          ],
          "name": "stdout"
        }
      ]
    }
  ]
}
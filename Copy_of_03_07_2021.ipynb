{
  "nbformat": 4,
  "nbformat_minor": 0,
  "metadata": {
    "colab": {
      "name": "Copy of 03-07-2021.ipynb",
      "provenance": [],
      "collapsed_sections": [],
      "include_colab_link": true
    },
    "kernelspec": {
      "name": "python3",
      "display_name": "Python 3"
    },
    "language_info": {
      "name": "python"
    }
  },
  "cells": [
    {
      "cell_type": "markdown",
      "metadata": {
        "id": "view-in-github",
        "colab_type": "text"
      },
      "source": [
        "<a href=\"https://colab.research.google.com/github/Hariii2020/2.py/blob/master/Copy_of_03_07_2021.ipynb\" target=\"_parent\"><img src=\"https://colab.research.google.com/assets/colab-badge.svg\" alt=\"Open In Colab\"/></a>"
      ]
    },
    {
      "cell_type": "markdown",
      "metadata": {
        "id": "YR5-QUpl40SO"
      },
      "source": [
        "**Divisors** \n",
        "\n",
        "Create a program that asks the user for a number and then prints out a list of all the divisors of that number. (If you don’t know what a divisor is, it is a number that divides evenly into another number. For example, 13 is a divisor of 26 because 26 / 13 has no remainder.)"
      ]
    },
    {
      "cell_type": "code",
      "metadata": {
        "id": "DXJhTCZT4zPu",
        "colab": {
          "base_uri": "https://localhost:8080/"
        },
        "outputId": "1e1ca738-2434-41a2-9f5d-a24f544f42cd"
      },
      "source": [
        "num = int(input())\n",
        "for i in range(1,num):\n",
        "  if(num%i==0):\n",
        "    print(i)"
      ],
      "execution_count": null,
      "outputs": [
        {
          "output_type": "stream",
          "text": [
            "26\n",
            "1\n",
            "2\n",
            "13\n"
          ],
          "name": "stdout"
        }
      ]
    }
  ]
}
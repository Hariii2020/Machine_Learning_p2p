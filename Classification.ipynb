{
  "nbformat": 4,
  "nbformat_minor": 0,
  "metadata": {
    "colab": {
      "name": "Classification.ipynb",
      "provenance": [],
      "collapsed_sections": [],
      "authorship_tag": "ABX9TyOZ6yBb9iElIjo1fJV1t4zc",
      "include_colab_link": true
    },
    "kernelspec": {
      "name": "python3",
      "display_name": "Python 3"
    },
    "language_info": {
      "name": "python"
    }
  },
  "cells": [
    {
      "cell_type": "markdown",
      "metadata": {
        "id": "view-in-github",
        "colab_type": "text"
      },
      "source": [
        "<a href=\"https://colab.research.google.com/github/Hariii2020/2.py/blob/master/Classification.ipynb\" target=\"_parent\"><img src=\"https://colab.research.google.com/assets/colab-badge.svg\" alt=\"Open In Colab\"/></a>"
      ]
    },
    {
      "cell_type": "code",
      "metadata": {
        "colab": {
          "base_uri": "https://localhost:8080/"
        },
        "id": "H9DwGm52lMvX",
        "outputId": "c7138f3b-a418-48e8-d4e0-afbcd1ed71eb"
      },
      "source": [
        "X = [ [0], [1], [2], [3]  ]\n",
        "y = [0 ,0, 1, 1]\n",
        "\n",
        "#KNN Algorithm\n",
        "from sklearn.neighbors import KNeighborsClassifier\n",
        "neigh = KNeighborsClassifier(n_neighbors=3)\n",
        "neigh.fit(X,y)\n",
        "neigh.predict([ [0.9],[1.2],[2.3],[3.4]])\n",
        "\n",
        "from sklearn.metrics import accuracy_score\n",
        "y_pred = [0,1,2,3]\n",
        "y_true = [0,2,1,3]\n",
        "\n",
        "print(\"Accurancy in KNN:\",accuracy_score(y_true, y_pred))\n",
        "\n",
        "#Decision Tree\n",
        "\n",
        "X = [ [0,0], [1,2] ]\n",
        "y = [0,1]\n",
        "\n",
        "\n",
        "from sklearn import tree\n",
        "clf = tree.DecisionTreeClassifier()\n",
        "clf.fit(X,y)\n",
        "print(\"Prediction in Decision Tree: \",clf.predict( [ [3,3] ] ))\n",
        "\n",
        "#Support Vector Machine\n",
        "import numpy as np\n",
        "X= np.array( [[-1,-1],[-2,-1],[1,1],[2,1]] )\n",
        "y = np.array( [1,1,2,2] )\n",
        "\n",
        "from sklearn.svm import SVC\n",
        "cls = SVC()\n",
        "cls.fit(X,y)\n",
        "print(\"Predictions in SVM: \",cls.predict([[2,2]]))"
      ],
      "execution_count": 25,
      "outputs": [
        {
          "output_type": "stream",
          "text": [
            "Accurancy in KNN: 0.5\n",
            "Prediction in Decision Tree:  [1]\n",
            "Predictions in SVM:  [1]\n"
          ],
          "name": "stdout"
        }
      ]
    }
  ]
}
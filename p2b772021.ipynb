{
  "nbformat": 4,
  "nbformat_minor": 0,
  "metadata": {
    "colab": {
      "name": "p2b772021.ipynb",
      "provenance": [],
      "include_colab_link": true
    },
    "kernelspec": {
      "name": "python3",
      "display_name": "Python 3"
    },
    "language_info": {
      "name": "python"
    }
  },
  "cells": [
    {
      "cell_type": "markdown",
      "metadata": {
        "id": "view-in-github",
        "colab_type": "text"
      },
      "source": [
        "<a href=\"https://colab.research.google.com/github/Hariii2020/2.py/blob/master/p2b772021.ipynb\" target=\"_parent\"><img src=\"https://colab.research.google.com/assets/colab-badge.svg\" alt=\"Open In Colab\"/></a>"
      ]
    },
    {
      "cell_type": "markdown",
      "metadata": {
        "id": "70VR6-oLLwWX"
      },
      "source": [
        "write a python program to double every value of dictionary(only double the value,do not change the key)\n",
        "\n",
        "example : dict = {\"dhoni\":50,\"jadeja\":45,\"kohli\":60}                     \n",
        "result must be {\"dhoni\":100,\"jadeja\":90,\"kohli\":120}"
      ]
    },
    {
      "cell_type": "code",
      "metadata": {
        "id": "77QTexXtLtw2",
        "outputId": "77ebb990-9d87-4485-e9de-aeb2725e5c64",
        "colab": {
          "base_uri": "https://localhost:8080/"
        }
      },
      "source": [
        "#your code goes here\n",
        "\n",
        "dict = {\"dhoni\":50,\"jadeja\":45,\"kohli\":60}\n",
        "for k in dict.keys():\n",
        "   dict[k] = dict[k] + dict[k]\n",
        "print(dict)\n",
        "\n",
        "\n",
        "\n",
        "\n",
        "\n",
        "\n",
        "\n",
        "\n",
        "\n"
      ],
      "execution_count": 1,
      "outputs": [
        {
          "output_type": "stream",
          "text": [
            "{'dhoni': 100, 'jadeja': 90, 'kohli': 120}\n"
          ],
          "name": "stdout"
        }
      ]
    }
  ]
}
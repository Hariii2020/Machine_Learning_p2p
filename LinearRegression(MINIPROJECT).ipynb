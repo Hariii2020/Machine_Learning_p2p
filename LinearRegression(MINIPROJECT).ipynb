{
  "nbformat": 4,
  "nbformat_minor": 0,
  "metadata": {
    "colab": {
      "name": "LinearRegression(MINIPROJECT).ipynb",
      "provenance": [],
      "authorship_tag": "ABX9TyM4HzRoWNd1flJLpjzOxAvs",
      "include_colab_link": true
    },
    "kernelspec": {
      "name": "python3",
      "display_name": "Python 3"
    },
    "language_info": {
      "name": "python"
    }
  },
  "cells": [
    {
      "cell_type": "markdown",
      "metadata": {
        "id": "view-in-github",
        "colab_type": "text"
      },
      "source": [
        "<a href=\"https://colab.research.google.com/github/Hariii2020/2.py/blob/master/LinearRegression(MINIPROJECT).ipynb\" target=\"_parent\"><img src=\"https://colab.research.google.com/assets/colab-badge.svg\" alt=\"Open In Colab\"/></a>"
      ]
    },
    {
      "cell_type": "code",
      "metadata": {
        "id": "pXhEzEt6zHth"
      },
      "source": [
        "#SOURCE IS SHAPE AI MACHINE LEARNING DAY 7\n",
        "\n",
        "import numpy as np\n",
        "import pandas as pd\n",
        "\n",
        "from sklearn.datasets import load_boston\n",
        "\n",
        "df = load_boston()\n",
        "# print(df)\n",
        "# print(type(df))\n",
        "# print(df.keys())\n",
        "# print(df.DESCR)\n",
        "# print(df.data)    #-->Data sets\n",
        "# print(df.target)\n",
        "# print(df[\"target\"])   #-->target values\n",
        "# print(df.feature_names)   #-->it is the column names\n",
        "# print(df.filename)\n",
        "\n",
        "boston = pd.DataFrame(df.data, columns=df.feature_names)\n",
        "# print(boston.head()) #First 5 values are the default values\n",
        "#If you want to print first 20 lines we can pass the parameter inside the head()\n",
        "# print(boston.head(20))\n",
        "#Adding the extra column at the last of the table\n",
        "boston['MEDV'] = df.target\n",
        "# print(boston.head())\n",
        "\n",
        "#To check whether there is a null value or not\n",
        "# print(boston.isnull())\n",
        "# print(boston.isnull().sum())\n",
        "\n",
        "from sklearn.model_selection import train_test_split\n",
        "\n",
        "X = boston.drop('MEDV', axis=1) #axis=1 to drop the column and X is the copy of boston .ie boston is unchanged\n",
        "y = boston['MEDV']\n",
        "\n",
        "X_train,X_test,y_train,y_test = train_test_split(X,y,train_size=0.85,test_size=0.15,random_state=1)\n",
        "#train siz => we are passing 85 data sets out of 100 to train\n",
        "#test size -> we are passing 15 data sets out of 100 to test\n",
        "# print(X_train.shape)\n",
        "# print(X_test.shape)\n",
        "# print(y_train.shape)\n",
        "# print(y_test.shape)\n",
        "\n",
        "from sklearn.linear_model import LinearRegression\n",
        "from sklearn.metrics import mean_squared_error\n",
        "\n",
        "#Fitting model on the training set\n",
        "\n",
        "lin_model = LinearRegression() # we made machine learning linear regression algorithm\n",
        "#fitting the train datasets to regression\n",
        "lin_model.fit(X_train,y_train)\n",
        "\n",
        "#predicting the data values for trained data\n",
        "y_train_predict = lin_model.predict(X_train)    #use predict() to predict the values of the passed values\n",
        "\n",
        "#Mean square error-> square of-->difference between the square of predict values of y and actual value of y\n",
        "#and divide by the actual rows present in the datasets\n",
        "#To find the error between the predicted and the original or actual output\n",
        "\n",
        "rmse = (np.sqrt(mean_squared_error(y_train,y_train_predict)))\n",
        "\n",
        "print(\"The model performance for training set\")\n",
        "print('RMSE is {}'.format(rmse))\n",
        "print(\"\\n\")\n",
        "\n",
        "#Testing data\n",
        "y_test_predict = lin_model.predict(X_test)\n",
        "rmse = (np.sqrt(mean_squared_error(y_test,y_test_predict)))\n",
        "\n",
        "print(\"The model performance for testing set\")\n",
        "print('RMSE is {}'.format(rmse))\n",
        "print(\"\\n\")"
      ],
      "execution_count": null,
      "outputs": []
    }
  ]
}
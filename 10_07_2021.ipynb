{
  "nbformat": 4,
  "nbformat_minor": 0,
  "metadata": {
    "colab": {
      "name": "10-07-2021.ipynb",
      "provenance": [],
      "collapsed_sections": [],
      "include_colab_link": true
    },
    "kernelspec": {
      "name": "python3",
      "display_name": "Python 3"
    },
    "language_info": {
      "name": "python"
    }
  },
  "cells": [
    {
      "cell_type": "markdown",
      "metadata": {
        "id": "view-in-github",
        "colab_type": "text"
      },
      "source": [
        "<a href=\"https://colab.research.google.com/github/Hariii2020/2.py/blob/master/10_07_2021.ipynb\" target=\"_parent\"><img src=\"https://colab.research.google.com/assets/colab-badge.svg\" alt=\"Open In Colab\"/></a>"
      ]
    },
    {
      "cell_type": "markdown",
      "metadata": {
        "id": "DWPrcgsDzzbh"
      },
      "source": [
        "Write a program using functions that asks the user for a long string containing multiple words. Print back to the user the same string, except with the words in backwards order. For example:\n",
        "\n",
        "  My name is Michele\n",
        "\n",
        "Then I would see the string:\n",
        "\n",
        "  Michele is name My\n",
        " "
      ]
    },
    {
      "cell_type": "code",
      "metadata": {
        "id": "rBXcJ3QizvKe",
        "outputId": "24e63672-a3a4-476f-bec0-a7c681eef276",
        "colab": {
          "base_uri": "https://localhost:8080/"
        }
      },
      "source": [
        "input = \"My name is Michele\"\n",
        "splt = input.split()\n",
        "for i in range(len(splt)-1,-1,-1):\n",
        "  print(splt[i],end=\" \")\n"
      ],
      "execution_count": 4,
      "outputs": [
        {
          "output_type": "stream",
          "text": [
            "Michele is name My "
          ],
          "name": "stdout"
        }
      ]
    }
  ]
}